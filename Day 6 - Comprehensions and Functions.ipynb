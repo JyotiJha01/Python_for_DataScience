{
 "cells": [
  {
   "cell_type": "markdown",
   "id": "fe4cffca",
   "metadata": {},
   "source": [
    "# Comprehensions"
   ]
  },
  {
   "cell_type": "markdown",
   "id": "65df0502",
   "metadata": {},
   "source": [
    "#### List Comprehensions\n",
    "#### Dict Comprehensions\n",
    "#### Set Comprehensions"
   ]
  },
  {
   "cell_type": "code",
   "execution_count": 1,
   "id": "f603be87",
   "metadata": {},
   "outputs": [
    {
     "data": {
      "text/plain": [
       "[1, 2, 12, 32, 4, 5, 6]"
      ]
     },
     "execution_count": 1,
     "metadata": {},
     "output_type": "execute_result"
    }
   ],
   "source": [
    "a = [1,2,12,32,4,5,6]\n",
    "a"
   ]
  },
  {
   "cell_type": "code",
   "execution_count": 2,
   "id": "e622e812",
   "metadata": {},
   "outputs": [],
   "source": [
    "# comprehension syntax\n",
    "# output Loop condiotionals"
   ]
  },
  {
   "cell_type": "code",
   "execution_count": 3,
   "id": "07a99d5e",
   "metadata": {},
   "outputs": [
    {
     "name": "stdout",
     "output_type": "stream",
     "text": [
      "[2, 4, 24, 64, 8, 10, 12]\n"
     ]
    }
   ],
   "source": [
    "l = []\n",
    "for i in a:\n",
    "    l.append(i * 2)\n",
    "print(l)"
   ]
  },
  {
   "cell_type": "code",
   "execution_count": 4,
   "id": "afd63def",
   "metadata": {},
   "outputs": [
    {
     "data": {
      "text/plain": [
       "[2, 4, 24, 64, 8, 10, 12]"
      ]
     },
     "execution_count": 4,
     "metadata": {},
     "output_type": "execute_result"
    }
   ],
   "source": [
    "[i * 2 for i in a] # List comprehension"
   ]
  },
  {
   "cell_type": "code",
   "execution_count": 5,
   "id": "a6ca74cf",
   "metadata": {},
   "outputs": [
    {
     "data": {
      "text/plain": [
       "[1, 2, 12, 32, 4, 5, 6]"
      ]
     },
     "execution_count": 5,
     "metadata": {},
     "output_type": "execute_result"
    }
   ],
   "source": [
    "a"
   ]
  },
  {
   "cell_type": "code",
   "execution_count": 7,
   "id": "5c433a6a",
   "metadata": {},
   "outputs": [
    {
     "data": {
      "text/plain": [
       "[2, 10]"
      ]
     },
     "execution_count": 7,
     "metadata": {},
     "output_type": "execute_result"
    }
   ],
   "source": [
    "[i * 2 for i in a if i % 2 != 0] # Syntax when else is not used"
   ]
  },
  {
   "cell_type": "code",
   "execution_count": 8,
   "id": "05e43579",
   "metadata": {},
   "outputs": [
    {
     "data": {
      "text/plain": [
       "[1, 2, 12, 32, 4, 5, 6]"
      ]
     },
     "execution_count": 8,
     "metadata": {},
     "output_type": "execute_result"
    }
   ],
   "source": [
    "a"
   ]
  },
  {
   "cell_type": "code",
   "execution_count": 9,
   "id": "ac623195",
   "metadata": {},
   "outputs": [
    {
     "data": {
      "text/plain": [
       "[2, 2, 12, 32, 4, 10, 6]"
      ]
     },
     "execution_count": 9,
     "metadata": {},
     "output_type": "execute_result"
    }
   ],
   "source": [
    "[i * 2 if i % 2 != 0 else i for i in a] # Syntax when else is used"
   ]
  },
  {
   "cell_type": "code",
   "execution_count": 10,
   "id": "699c5191",
   "metadata": {},
   "outputs": [
    {
     "data": {
      "text/plain": [
       "{2, 4, 6, 10, 12, 32}"
      ]
     },
     "execution_count": 10,
     "metadata": {},
     "output_type": "execute_result"
    }
   ],
   "source": [
    "{i * 2 if i % 2 != 0 else i for i in a}"
   ]
  },
  {
   "cell_type": "code",
   "execution_count": 11,
   "id": "d7e54be3",
   "metadata": {},
   "outputs": [
    {
     "data": {
      "text/plain": [
       "[1, 2, 12, 32, 4, 5, 6]"
      ]
     },
     "execution_count": 11,
     "metadata": {},
     "output_type": "execute_result"
    }
   ],
   "source": [
    "a"
   ]
  },
  {
   "cell_type": "code",
   "execution_count": 12,
   "id": "7ab41e2b",
   "metadata": {},
   "outputs": [
    {
     "data": {
      "text/plain": [
       "[1, 4, 144, 1024, 16, 25, 36]"
      ]
     },
     "execution_count": 12,
     "metadata": {},
     "output_type": "execute_result"
    }
   ],
   "source": [
    "[i ** 2 for i in a]"
   ]
  },
  {
   "cell_type": "code",
   "execution_count": 13,
   "id": "62ae038a",
   "metadata": {},
   "outputs": [
    {
     "data": {
      "text/plain": [
       "[4, 144, 1024, 16, 36]"
      ]
     },
     "execution_count": 13,
     "metadata": {},
     "output_type": "execute_result"
    }
   ],
   "source": [
    "[i ** 2 for i in a if i % 2 == 0]"
   ]
  },
  {
   "cell_type": "code",
   "execution_count": 14,
   "id": "f3b81fb7",
   "metadata": {},
   "outputs": [
    {
     "data": {
      "text/plain": [
       "[1, 4, 144, 1024, 16, 5, 36]"
      ]
     },
     "execution_count": 14,
     "metadata": {},
     "output_type": "execute_result"
    }
   ],
   "source": [
    "[i ** 2 if i % 2 == 0 else i for i in a]"
   ]
  },
  {
   "cell_type": "code",
   "execution_count": 15,
   "id": "d3d8ff21",
   "metadata": {},
   "outputs": [
    {
     "data": {
      "text/plain": [
       "{1, 4, 5, 16, 36, 144, 1024}"
      ]
     },
     "execution_count": 15,
     "metadata": {},
     "output_type": "execute_result"
    }
   ],
   "source": [
    "x = {i ** 2 if i % 2 == 0 else i for i in a}\n",
    "x"
   ]
  },
  {
   "cell_type": "markdown",
   "id": "e81c059b",
   "metadata": {},
   "source": [
    "# Dictionary Comprehensions"
   ]
  },
  {
   "cell_type": "code",
   "execution_count": 16,
   "id": "98275f4d",
   "metadata": {},
   "outputs": [
    {
     "name": "stdout",
     "output_type": "stream",
     "text": [
      "['A', 'B', 'C', 'D', 'E'] [1, 2, 3, 4, 5]\n"
     ]
    }
   ],
   "source": [
    "b = list(\"ABCDE\")\n",
    "c = [1,2,3,4,5]\n",
    "print(b, c)"
   ]
  },
  {
   "cell_type": "code",
   "execution_count": 17,
   "id": "1cc853b6",
   "metadata": {},
   "outputs": [
    {
     "data": {
      "text/plain": [
       "{'A': 1, 'B': 2, 'C': 3, 'D': 4, 'E': 5}"
      ]
     },
     "execution_count": 17,
     "metadata": {},
     "output_type": "execute_result"
    }
   ],
   "source": [
    "d = {i:j for i, j in zip(b,c)}\n",
    "d"
   ]
  },
  {
   "cell_type": "code",
   "execution_count": 18,
   "id": "78818932",
   "metadata": {},
   "outputs": [
    {
     "data": {
      "text/plain": [
       "dict_items([('A', 1), ('B', 2), ('C', 3), ('D', 4), ('E', 5)])"
      ]
     },
     "execution_count": 18,
     "metadata": {},
     "output_type": "execute_result"
    }
   ],
   "source": [
    "d.items()"
   ]
  },
  {
   "cell_type": "code",
   "execution_count": 19,
   "id": "bedb99a5",
   "metadata": {},
   "outputs": [
    {
     "data": {
      "text/plain": [
       "[('A', 1), ('B', 2), ('C', 3), ('D', 4), ('E', 5)]"
      ]
     },
     "execution_count": 19,
     "metadata": {},
     "output_type": "execute_result"
    }
   ],
   "source": [
    "list(d.items())"
   ]
  },
  {
   "cell_type": "code",
   "execution_count": 20,
   "id": "1d7e3fa1",
   "metadata": {},
   "outputs": [
    {
     "data": {
      "text/plain": [
       "[('A', 1), ('B', 2), ('C', 3), ('D', 4), ('E', 5)]"
      ]
     },
     "execution_count": 20,
     "metadata": {},
     "output_type": "execute_result"
    }
   ],
   "source": [
    "list(zip(b,c))"
   ]
  },
  {
   "cell_type": "markdown",
   "id": "75b112c2",
   "metadata": {},
   "source": [
    "# Functions"
   ]
  },
  {
   "cell_type": "markdown",
   "id": "d7b9f295",
   "metadata": {},
   "source": [
    "# Functions without any arguments"
   ]
  },
  {
   "cell_type": "code",
   "execution_count": 21,
   "id": "22ad0c28",
   "metadata": {},
   "outputs": [],
   "source": [
    "def welcome():\n",
    "    print(\"Welcome to Python Programming\")\n",
    "#     print(12 + 241)"
   ]
  },
  {
   "cell_type": "code",
   "execution_count": 22,
   "id": "7e98f424",
   "metadata": {},
   "outputs": [],
   "source": [
    "def welcome2():\n",
    "    return \"Welcome to Python Programming\"\n",
    "#     return 12 + 241"
   ]
  },
  {
   "cell_type": "code",
   "execution_count": 23,
   "id": "cc29b6a4",
   "metadata": {},
   "outputs": [
    {
     "name": "stdout",
     "output_type": "stream",
     "text": [
      "Welcome to Python Programming\n"
     ]
    }
   ],
   "source": [
    "welcome()"
   ]
  },
  {
   "cell_type": "code",
   "execution_count": 24,
   "id": "077185cd",
   "metadata": {},
   "outputs": [
    {
     "data": {
      "text/plain": [
       "'Welcome to Python Programming'"
      ]
     },
     "execution_count": 24,
     "metadata": {},
     "output_type": "execute_result"
    }
   ],
   "source": [
    "welcome2()"
   ]
  },
  {
   "cell_type": "code",
   "execution_count": 25,
   "id": "bb2d00cc",
   "metadata": {},
   "outputs": [
    {
     "name": "stdout",
     "output_type": "stream",
     "text": [
      "Welcome to Python Programming\n",
      "None\n"
     ]
    }
   ],
   "source": [
    "print(welcome())"
   ]
  },
  {
   "cell_type": "code",
   "execution_count": 26,
   "id": "ef077885",
   "metadata": {},
   "outputs": [
    {
     "name": "stdout",
     "output_type": "stream",
     "text": [
      "Welcome to Python Programming\n"
     ]
    }
   ],
   "source": [
    "print(welcome2())"
   ]
  },
  {
   "cell_type": "markdown",
   "id": "26e46d2d",
   "metadata": {},
   "source": [
    "# Functions With arguments"
   ]
  },
  {
   "cell_type": "code",
   "execution_count": 27,
   "id": "7d01ffdf",
   "metadata": {},
   "outputs": [],
   "source": [
    "def add(x, y):\n",
    "    print(f\"Added value of {x} and {y} is {x + y}\")\n",
    "#     print(\"Added value of\", x, 'and', y, 'is', x + y)"
   ]
  },
  {
   "cell_type": "code",
   "execution_count": 28,
   "id": "f9f14b84",
   "metadata": {},
   "outputs": [
    {
     "ename": "TypeError",
     "evalue": "add() missing 2 required positional arguments: 'x' and 'y'",
     "output_type": "error",
     "traceback": [
      "\u001b[1;31m---------------------------------------------------------------------------\u001b[0m",
      "\u001b[1;31mTypeError\u001b[0m                                 Traceback (most recent call last)",
      "Cell \u001b[1;32mIn[28], line 1\u001b[0m\n\u001b[1;32m----> 1\u001b[0m \u001b[43madd\u001b[49m\u001b[43m(\u001b[49m\u001b[43m)\u001b[49m\n",
      "\u001b[1;31mTypeError\u001b[0m: add() missing 2 required positional arguments: 'x' and 'y'"
     ]
    }
   ],
   "source": [
    "add()"
   ]
  },
  {
   "cell_type": "code",
   "execution_count": null,
   "id": "67692bb3",
   "metadata": {},
   "outputs": [],
   "source": [
    "add(10, 20)"
   ]
  },
  {
   "cell_type": "code",
   "execution_count": null,
   "id": "6c0db14b",
   "metadata": {},
   "outputs": [],
   "source": [
    "add(-110, 5040)"
   ]
  },
  {
   "cell_type": "code",
   "execution_count": 29,
   "id": "84c753c9",
   "metadata": {},
   "outputs": [],
   "source": [
    "def add(x, y):\n",
    "    \n",
    "    \"\"\"\n",
    "    Returns the Sum of two input values\n",
    "    Arguments:\n",
    "    X: Any integer\n",
    "    Y: Any Integer\n",
    "    \n",
    "    Example:\n",
    "    add(10, 20) will return \"Added value of 10 and 20 is 30\"\n",
    "    \"\"\"\n",
    "    \n",
    "    print(f\"Added value of {x} and {y} is {x + y}\")"
   ]
  },
  {
   "cell_type": "code",
   "execution_count": 30,
   "id": "9388c1b8",
   "metadata": {},
   "outputs": [
    {
     "name": "stdout",
     "output_type": "stream",
     "text": [
      "Added value of 25 and 10 is 35\n"
     ]
    }
   ],
   "source": [
    "add(25, 10)"
   ]
  },
  {
   "cell_type": "code",
   "execution_count": 31,
   "id": "9b7d9928",
   "metadata": {},
   "outputs": [
    {
     "name": "stdout",
     "output_type": "stream",
     "text": [
      "\n",
      "    Returns the Sum of two input values\n",
      "    Arguments:\n",
      "    X: Any integer\n",
      "    Y: Any Integer\n",
      "    \n",
      "    Example:\n",
      "    add(10, 20) will return \"Added value of 10 and 20 is 30\"\n",
      "    \n"
     ]
    }
   ],
   "source": [
    "print(add.__doc__)"
   ]
  },
  {
   "cell_type": "markdown",
   "id": "805ace84",
   "metadata": {},
   "source": [
    "# Functions with Keyword (optional) arguments"
   ]
  },
  {
   "cell_type": "code",
   "execution_count": 32,
   "id": "5aa2bd15",
   "metadata": {},
   "outputs": [],
   "source": [
    "def welcome(name, title = \"Mr.\"):\n",
    "    return f\"Welcome to Python Programming {title + name}\""
   ]
  },
  {
   "cell_type": "code",
   "execution_count": 33,
   "id": "11272c29",
   "metadata": {},
   "outputs": [
    {
     "data": {
      "text/plain": [
       "'Welcome to Python Programming Mr.Gowtham'"
      ]
     },
     "execution_count": 33,
     "metadata": {},
     "output_type": "execute_result"
    }
   ],
   "source": [
    "welcome(\"Gowtham\")"
   ]
  },
  {
   "cell_type": "code",
   "execution_count": 34,
   "id": "eae078fa",
   "metadata": {},
   "outputs": [
    {
     "data": {
      "text/plain": [
       "'Welcome to Python Programming Ms.Shruti'"
      ]
     },
     "execution_count": 34,
     "metadata": {},
     "output_type": "execute_result"
    }
   ],
   "source": [
    "welcome(\"Shruti\", title = \"Ms.\")"
   ]
  },
  {
   "cell_type": "markdown",
   "id": "6178be05",
   "metadata": {},
   "source": [
    "# Functions with Multiple Arguments"
   ]
  },
  {
   "cell_type": "code",
   "execution_count": 35,
   "id": "5a9d2b18",
   "metadata": {},
   "outputs": [],
   "source": [
    "def add_cal(*nums):\n",
    "    \n",
    "    tot = 0\n",
    "    \n",
    "    for i in nums:\n",
    "        tot += i\n",
    "    \n",
    "    return tot    "
   ]
  },
  {
   "cell_type": "code",
   "execution_count": 36,
   "id": "26da12fb",
   "metadata": {},
   "outputs": [
    {
     "data": {
      "text/plain": [
       "1084"
      ]
     },
     "execution_count": 36,
     "metadata": {},
     "output_type": "execute_result"
    }
   ],
   "source": [
    "add_cal(10,20,34,1,5,4,78,82,78,21,5,4,6,725,0,4,7)"
   ]
  },
  {
   "cell_type": "markdown",
   "id": "01541a84",
   "metadata": {},
   "source": [
    "# Functions with Multiple Keyword Arguments"
   ]
  },
  {
   "cell_type": "code",
   "execution_count": 37,
   "id": "41c33100",
   "metadata": {},
   "outputs": [],
   "source": [
    "def avg_marks(**subs):\n",
    "    \n",
    "    total = 0\n",
    "    n = 0\n",
    "    \n",
    "    for i in subs.values():\n",
    "        total += i # total = total + i\n",
    "        n += 1 \n",
    "    \n",
    "    print(\"Subjects taken by the student is\", list(subs.keys()))\n",
    "       \n",
    "    return round(total / n, 2)"
   ]
  },
  {
   "cell_type": "code",
   "execution_count": 38,
   "id": "4a870bf6",
   "metadata": {},
   "outputs": [
    {
     "name": "stdout",
     "output_type": "stream",
     "text": [
      "Subjects taken by the student is ['Physics', 'Maths', 'Chemistry', 'Science', 'History']\n"
     ]
    },
    {
     "data": {
      "text/plain": [
       "72.8"
      ]
     },
     "execution_count": 38,
     "metadata": {},
     "output_type": "execute_result"
    }
   ],
   "source": [
    "avg_marks(Physics = 89, Maths = 80, Chemistry = 48, Science = 75, History = 72)"
   ]
  },
  {
   "cell_type": "markdown",
   "id": "0a7ae148",
   "metadata": {},
   "source": [
    "# Scope of a Variable"
   ]
  },
  {
   "cell_type": "code",
   "execution_count": 39,
   "id": "c62fb04d",
   "metadata": {},
   "outputs": [
    {
     "data": {
      "text/plain": [
       "15"
      ]
     },
     "execution_count": 39,
     "metadata": {},
     "output_type": "execute_result"
    }
   ],
   "source": [
    "x = 15\n",
    "x"
   ]
  },
  {
   "cell_type": "code",
   "execution_count": 40,
   "id": "439deacf",
   "metadata": {},
   "outputs": [],
   "source": [
    "def add():\n",
    "#     Local Variables\n",
    "    m = 10\n",
    "    u = 20\n",
    "    return m + u"
   ]
  },
  {
   "cell_type": "code",
   "execution_count": 41,
   "id": "1a28f4fc",
   "metadata": {},
   "outputs": [
    {
     "data": {
      "text/plain": [
       "30"
      ]
     },
     "execution_count": 41,
     "metadata": {},
     "output_type": "execute_result"
    }
   ],
   "source": [
    "add()"
   ]
  },
  {
   "cell_type": "code",
   "execution_count": 42,
   "id": "6e13765d",
   "metadata": {},
   "outputs": [
    {
     "ename": "NameError",
     "evalue": "name 'm' is not defined",
     "output_type": "error",
     "traceback": [
      "\u001b[1;31m---------------------------------------------------------------------------\u001b[0m",
      "\u001b[1;31mNameError\u001b[0m                                 Traceback (most recent call last)",
      "Cell \u001b[1;32mIn[42], line 1\u001b[0m\n\u001b[1;32m----> 1\u001b[0m \u001b[43mm\u001b[49m\n",
      "\u001b[1;31mNameError\u001b[0m: name 'm' is not defined"
     ]
    }
   ],
   "source": [
    "m"
   ]
  },
  {
   "cell_type": "code",
   "execution_count": 43,
   "id": "039be27e",
   "metadata": {},
   "outputs": [
    {
     "ename": "NameError",
     "evalue": "name 'u' is not defined",
     "output_type": "error",
     "traceback": [
      "\u001b[1;31m---------------------------------------------------------------------------\u001b[0m",
      "\u001b[1;31mNameError\u001b[0m                                 Traceback (most recent call last)",
      "Cell \u001b[1;32mIn[43], line 1\u001b[0m\n\u001b[1;32m----> 1\u001b[0m \u001b[43mu\u001b[49m\n",
      "\u001b[1;31mNameError\u001b[0m: name 'u' is not defined"
     ]
    }
   ],
   "source": [
    "u"
   ]
  },
  {
   "cell_type": "code",
   "execution_count": 44,
   "id": "a7a51263",
   "metadata": {},
   "outputs": [
    {
     "data": {
      "text/plain": [
       "15"
      ]
     },
     "execution_count": 44,
     "metadata": {},
     "output_type": "execute_result"
    }
   ],
   "source": [
    "x # Global Variables"
   ]
  },
  {
   "cell_type": "code",
   "execution_count": 45,
   "id": "d7c46e63",
   "metadata": {},
   "outputs": [],
   "source": [
    "def add():\n",
    "    return x + 10"
   ]
  },
  {
   "cell_type": "code",
   "execution_count": 46,
   "id": "8391e54d",
   "metadata": {},
   "outputs": [
    {
     "data": {
      "text/plain": [
       "25"
      ]
     },
     "execution_count": 46,
     "metadata": {},
     "output_type": "execute_result"
    }
   ],
   "source": [
    "add()"
   ]
  },
  {
   "cell_type": "code",
   "execution_count": 47,
   "id": "b5230a7f",
   "metadata": {},
   "outputs": [
    {
     "data": {
      "text/plain": [
       "15"
      ]
     },
     "execution_count": 47,
     "metadata": {},
     "output_type": "execute_result"
    }
   ],
   "source": [
    "x"
   ]
  },
  {
   "cell_type": "markdown",
   "id": "b1a8ca6f",
   "metadata": {},
   "source": [
    "### 7. Create a calculator program for addition, subtraction, multiplication and  division. Take the inputs from the user, and based on the choice of operation, return the results."
   ]
  },
  {
   "cell_type": "code",
   "execution_count": 50,
   "id": "772f0699",
   "metadata": {},
   "outputs": [],
   "source": [
    "def calculator():\n",
    "    \n",
    "    mode = input(\"1.Addition | 2.Subtraction | 3.Multiplication | 4.Division\")\n",
    "    \n",
    "    n1 = int(input(\"First Number: \"))\n",
    "    n2 = int(input(\"Second Number: \"))\n",
    "    \n",
    "    if mode == \"1\":\n",
    "        return n1 + n2\n",
    "    elif mode == \"2\":\n",
    "        return n1 - n2\n",
    "    elif mode == \"3\":\n",
    "        return n1 * n2\n",
    "    elif mode == \"4\":\n",
    "        return n1 / n2\n",
    "    else:\n",
    "        return \"Supply correct arithmetic operation\""
   ]
  },
  {
   "cell_type": "code",
   "execution_count": 51,
   "id": "d9fb484e",
   "metadata": {},
   "outputs": [
    {
     "name": "stdout",
     "output_type": "stream",
     "text": [
      "1.Addition | 2.Subtraction | 3.Multiplication | 4.Division1\n",
      "First Number: 12\n",
      "Second Number: 12\n"
     ]
    },
    {
     "data": {
      "text/plain": [
       "24"
      ]
     },
     "execution_count": 51,
     "metadata": {},
     "output_type": "execute_result"
    }
   ],
   "source": [
    "calculator()"
   ]
  },
  {
   "cell_type": "code",
   "execution_count": null,
   "id": "19c115fb",
   "metadata": {},
   "outputs": [],
   "source": []
  },
  {
   "cell_type": "code",
   "execution_count": null,
   "id": "37e46df5",
   "metadata": {},
   "outputs": [],
   "source": []
  },
  {
   "cell_type": "code",
   "execution_count": null,
   "id": "076b0c20",
   "metadata": {},
   "outputs": [],
   "source": []
  },
  {
   "cell_type": "code",
   "execution_count": null,
   "id": "491f1e5c",
   "metadata": {},
   "outputs": [],
   "source": []
  },
  {
   "cell_type": "code",
   "execution_count": null,
   "id": "6c2a0673",
   "metadata": {},
   "outputs": [],
   "source": []
  },
  {
   "cell_type": "code",
   "execution_count": null,
   "id": "30ddabe0",
   "metadata": {},
   "outputs": [],
   "source": []
  },
  {
   "cell_type": "code",
   "execution_count": null,
   "id": "18b33701",
   "metadata": {},
   "outputs": [],
   "source": []
  },
  {
   "cell_type": "code",
   "execution_count": null,
   "id": "71ff24da",
   "metadata": {},
   "outputs": [],
   "source": []
  },
  {
   "cell_type": "code",
   "execution_count": null,
   "id": "16714f5b",
   "metadata": {},
   "outputs": [],
   "source": []
  }
 ],
 "metadata": {
  "kernelspec": {
   "display_name": "Python 3 (ipykernel)",
   "language": "python",
   "name": "python3"
  },
  "language_info": {
   "codemirror_mode": {
    "name": "ipython",
    "version": 3
   },
   "file_extension": ".py",
   "mimetype": "text/x-python",
   "name": "python",
   "nbconvert_exporter": "python",
   "pygments_lexer": "ipython3",
   "version": "3.11.1"
  }
 },
 "nbformat": 4,
 "nbformat_minor": 5
}
