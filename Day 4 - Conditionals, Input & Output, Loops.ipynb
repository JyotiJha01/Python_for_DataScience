{
 "cells": [
  {
   "cell_type": "markdown",
   "id": "4bee44d4",
   "metadata": {},
   "source": [
    "# Conditionals"
   ]
  },
  {
   "cell_type": "code",
   "execution_count": 1,
   "id": "eb16db0e",
   "metadata": {
    "scrolled": true
   },
   "outputs": [
    {
     "name": "stdout",
     "output_type": "stream",
     "text": [
      "A is 50\n",
      "Operation Completed\n"
     ]
    }
   ],
   "source": [
    "a = 50\n",
    "\n",
    "if a > 50:\n",
    "    print(\"A is Greater than 50\")\n",
    "elif a < 50: #else if\n",
    "    print(\"A is Lesser than 50\")\n",
    "else: #else will work when all my previous conditions fail\n",
    "    print(\"A is 50\")\n",
    "    \n",
    "print(\"Operation Completed\")"
   ]
  },
  {
   "cell_type": "code",
   "execution_count": 2,
   "id": "6cd417be",
   "metadata": {},
   "outputs": [
    {
     "data": {
      "text/plain": [
       "False"
      ]
     },
     "execution_count": 2,
     "metadata": {},
     "output_type": "execute_result"
    }
   ],
   "source": [
    "a > 50"
   ]
  },
  {
   "cell_type": "code",
   "execution_count": 3,
   "id": "9bc7faf0",
   "metadata": {},
   "outputs": [
    {
     "name": "stdout",
     "output_type": "stream",
     "text": [
      "Young Guy\n"
     ]
    }
   ],
   "source": [
    "age = 20\n",
    "\n",
    "if age > 25:\n",
    "    print(\"Old Guy\")\n",
    "else:\n",
    "    print(\"Young Guy\")"
   ]
  },
  {
   "cell_type": "markdown",
   "id": "cd3e3089",
   "metadata": {},
   "source": [
    "### Input"
   ]
  },
  {
   "cell_type": "code",
   "execution_count": 5,
   "id": "fcb258cb",
   "metadata": {},
   "outputs": [
    {
     "name": "stdout",
     "output_type": "stream",
     "text": [
      "Please enter your name: Jyoti\n"
     ]
    }
   ],
   "source": [
    "name = input(\"Please enter your name: \")"
   ]
  },
  {
   "cell_type": "code",
   "execution_count": 6,
   "id": "f748d902",
   "metadata": {},
   "outputs": [
    {
     "name": "stdout",
     "output_type": "stream",
     "text": [
      "Name of the Trainer is Jyoti\n"
     ]
    }
   ],
   "source": [
    "print(\"Name of the Trainer is\", name)"
   ]
  },
  {
   "cell_type": "code",
   "execution_count": 7,
   "id": "0127a14b",
   "metadata": {},
   "outputs": [
    {
     "data": {
      "text/plain": [
       "str"
      ]
     },
     "execution_count": 7,
     "metadata": {},
     "output_type": "execute_result"
    }
   ],
   "source": [
    "type(name)"
   ]
  },
  {
   "cell_type": "code",
   "execution_count": 8,
   "id": "25d0b9d0",
   "metadata": {},
   "outputs": [
    {
     "name": "stdout",
     "output_type": "stream",
     "text": [
      "Supply your age: 25\n",
      "Age of the trainer is 25\n"
     ]
    }
   ],
   "source": [
    "age = input(\"Supply your age: \") #Inputs are always collected in the form of the String\n",
    "print(\"Age of the trainer is\", age)"
   ]
  },
  {
   "cell_type": "code",
   "execution_count": 9,
   "id": "222a2a3c",
   "metadata": {
    "scrolled": true
   },
   "outputs": [
    {
     "data": {
      "text/plain": [
       "str"
      ]
     },
     "execution_count": 9,
     "metadata": {},
     "output_type": "execute_result"
    }
   ],
   "source": [
    "type(age)"
   ]
  },
  {
   "cell_type": "code",
   "execution_count": 10,
   "id": "074a4b6c",
   "metadata": {},
   "outputs": [
    {
     "name": "stdout",
     "output_type": "stream",
     "text": [
      "Please enter your age: 23\n",
      "Trainer's age is 23\n"
     ]
    }
   ],
   "source": [
    "age = int(input(\"Please enter your age: \")) # type casting\n",
    "print(\"Trainer's age is\", age)"
   ]
  },
  {
   "cell_type": "code",
   "execution_count": 11,
   "id": "2148e61f",
   "metadata": {},
   "outputs": [
    {
     "data": {
      "text/plain": [
       "'23'"
      ]
     },
     "execution_count": 11,
     "metadata": {},
     "output_type": "execute_result"
    }
   ],
   "source": [
    "str(age)"
   ]
  },
  {
   "cell_type": "code",
   "execution_count": 12,
   "id": "512a2288",
   "metadata": {},
   "outputs": [
    {
     "data": {
      "text/plain": [
       "23.0"
      ]
     },
     "execution_count": 12,
     "metadata": {},
     "output_type": "execute_result"
    }
   ],
   "source": [
    "float(age)"
   ]
  },
  {
   "cell_type": "code",
   "execution_count": 13,
   "id": "b3e8ff8c",
   "metadata": {},
   "outputs": [
    {
     "data": {
      "text/plain": [
       "int"
      ]
     },
     "execution_count": 13,
     "metadata": {},
     "output_type": "execute_result"
    }
   ],
   "source": [
    "type(age)"
   ]
  },
  {
   "cell_type": "markdown",
   "id": "f72b6f33",
   "metadata": {},
   "source": [
    "# Multiple Conditions"
   ]
  },
  {
   "cell_type": "code",
   "execution_count": 14,
   "id": "90e20d29",
   "metadata": {},
   "outputs": [
    {
     "name": "stdout",
     "output_type": "stream",
     "text": [
      "Please enter your Age: 23\n",
      "Please enter your Salary: 200\n",
      "Please enter your Credit score: 78\n",
      "No Loans\n"
     ]
    }
   ],
   "source": [
    "age = int(input(\"Please enter your Age: \"))\n",
    "sal = float(input(\"Please enter your Salary: \"))\n",
    "credit_score = int(input(\"Please enter your Credit score: \"))\n",
    "\n",
    "# 1. Age must be lesser than 45, Salary must be 50+ LPA, Credit score should be > 800 == \"Loan with lesser interest\"\n",
    "# 2. Age must be lesser than 45, Salary must be <50 LPA, Credit score should bw 700 to 800 == \"Loan with moderate interest\"\n",
    "# 3. Everybody else with a credit score of 600 == \"Loan with Higher interest rate\"\n",
    "# 4. Everybody else  == No Loans\n",
    "\n",
    "if (age <= 45) and (sal >= 50) and (credit_score >= 800):\n",
    "    print(\"Provide Loans with lesser interest rates\")\n",
    "elif (age <= 45) and (sal < 50) and (credit_score >= 700 and credit_score < 800):\n",
    "    print(\"Provide Loans with Moderate interest rates\")\n",
    "elif credit_score >= 600:\n",
    "    print(\"Provide Loans with Higher interest rates\")\n",
    "else:\n",
    "    print(\"No Loans\")"
   ]
  },
  {
   "cell_type": "code",
   "execution_count": 29,
   "id": "77d0f7e4",
   "metadata": {},
   "outputs": [],
   "source": [
    "# 45 <= \"45\""
   ]
  },
  {
   "cell_type": "code",
   "execution_count": 33,
   "id": "811019ab",
   "metadata": {},
   "outputs": [
    {
     "name": "stdout",
     "output_type": "stream",
     "text": [
      "Please enter your Age: 31\n",
      "Please enter your Salary: 15\n",
      "Bad Loans\n"
     ]
    }
   ],
   "source": [
    "age = int(input(\"Please enter your Age: \"))\n",
    "sal = float(input(\"Please enter your Salary: \"))\n",
    "\n",
    "if age > 45 or sal > 50:\n",
    "    print(\"Better Loan\")\n",
    "else:\n",
    "    print(\"Bad Loans\")"
   ]
  },
  {
   "cell_type": "markdown",
   "id": "381d05c5",
   "metadata": {},
   "source": [
    "# Output"
   ]
  },
  {
   "cell_type": "code",
   "execution_count": 15,
   "id": "a95449e5",
   "metadata": {},
   "outputs": [
    {
     "name": "stdout",
     "output_type": "stream",
     "text": [
      "Welcome to Python Programming\n"
     ]
    }
   ],
   "source": [
    "print(\"Welcome to Python Programming\")"
   ]
  },
  {
   "cell_type": "code",
   "execution_count": 16,
   "id": "b7d4b316",
   "metadata": {},
   "outputs": [
    {
     "name": "stdout",
     "output_type": "stream",
     "text": [
      "50\n"
     ]
    }
   ],
   "source": [
    "print(a)"
   ]
  },
  {
   "cell_type": "code",
   "execution_count": 17,
   "id": "fe5cfdc1",
   "metadata": {},
   "outputs": [
    {
     "name": "stdout",
     "output_type": "stream",
     "text": [
      "240\n"
     ]
    }
   ],
   "source": [
    "print(10 + 230)"
   ]
  },
  {
   "cell_type": "code",
   "execution_count": 18,
   "id": "25ee8b96",
   "metadata": {},
   "outputs": [
    {
     "name": "stdout",
     "output_type": "stream",
     "text": [
      "Python Programming\n"
     ]
    }
   ],
   "source": [
    "print(\"Python\",\"Programming\")"
   ]
  },
  {
   "cell_type": "code",
   "execution_count": 19,
   "id": "a49e63bc",
   "metadata": {},
   "outputs": [
    {
     "name": "stdout",
     "output_type": "stream",
     "text": [
      "Python--Programming\n"
     ]
    }
   ],
   "source": [
    "print(\"Python\",\"Programming\", sep = \"--\")"
   ]
  },
  {
   "cell_type": "code",
   "execution_count": 20,
   "id": "6c2e9cb4",
   "metadata": {},
   "outputs": [
    {
     "name": "stdout",
     "output_type": "stream",
     "text": [
      "Python\n",
      "Programming\n"
     ]
    }
   ],
   "source": [
    "print(\"Python\")\n",
    "print(\"Programming\")"
   ]
  },
  {
   "cell_type": "code",
   "execution_count": 21,
   "id": "c8ac60f7",
   "metadata": {},
   "outputs": [
    {
     "name": "stdout",
     "output_type": "stream",
     "text": [
      "Python\n",
      "Programming\n"
     ]
    }
   ],
   "source": [
    "print(\"Python\", end = \"\\n\")\n",
    "print(\"Programming\")"
   ]
  },
  {
   "cell_type": "code",
   "execution_count": 22,
   "id": "9a7a4b97",
   "metadata": {},
   "outputs": [
    {
     "name": "stdout",
     "output_type": "stream",
     "text": [
      "Python Programming\n"
     ]
    }
   ],
   "source": [
    "print(\"Python\", end = \" \")\n",
    "print(\"Programming\")"
   ]
  },
  {
   "cell_type": "code",
   "execution_count": 23,
   "id": "e4168e2f",
   "metadata": {},
   "outputs": [
    {
     "name": "stdout",
     "output_type": "stream",
     "text": [
      "Prints the values to a stream, or to sys.stdout by default.\n",
      "\n",
      "  sep\n",
      "    string inserted between values, default a space.\n",
      "  end\n",
      "    string appended after the last value, default a newline.\n",
      "  file\n",
      "    a file-like object (stream); defaults to the current sys.stdout.\n",
      "  flush\n",
      "    whether to forcibly flush the stream.\n"
     ]
    }
   ],
   "source": [
    "# To read documentation of any function or Press Shift + Tab for reading it once\n",
    "print(print.__doc__)"
   ]
  },
  {
   "cell_type": "code",
   "execution_count": 24,
   "id": "4cd6a4dc",
   "metadata": {},
   "outputs": [
    {
     "name": "stdout",
     "output_type": "stream",
     "text": [
      "Forward raw_input to frontends\n",
      "\n",
      "        Raises\n",
      "        ------\n",
      "        StdinNotImplementedError if active frontend doesn't support stdin.\n",
      "        \n"
     ]
    }
   ],
   "source": [
    "print(input.__doc__)"
   ]
  },
  {
   "cell_type": "markdown",
   "id": "3abb645f",
   "metadata": {},
   "source": [
    "# Format"
   ]
  },
  {
   "cell_type": "code",
   "execution_count": 25,
   "id": "a1f14c00",
   "metadata": {},
   "outputs": [
    {
     "name": "stdout",
     "output_type": "stream",
     "text": [
      "Please enter your name:jhks\n",
      "Please enter your university name:djksalh\n",
      "Please mention your age: 34\n"
     ]
    }
   ],
   "source": [
    "name = input(\"Please enter your name:\")\n",
    "university = input(\"Please enter your university name:\")\n",
    "age = int(input(\"Please mention your age: \"))"
   ]
  },
  {
   "cell_type": "code",
   "execution_count": 26,
   "id": "1f304672",
   "metadata": {},
   "outputs": [
    {
     "name": "stdout",
     "output_type": "stream",
     "text": [
      "jhks is studying at the djksalh at the age of 34\n"
     ]
    }
   ],
   "source": [
    "print(name, 'is studying at the', university, \"at the age of\", age)"
   ]
  },
  {
   "cell_type": "code",
   "execution_count": 27,
   "id": "c24c3d3b",
   "metadata": {},
   "outputs": [
    {
     "name": "stdout",
     "output_type": "stream",
     "text": [
      "jhks is studying at the djksalh at the age of 34\n"
     ]
    }
   ],
   "source": [
    "print(\"{} is studying at the {} at the age of {}\".format(name, university, age))"
   ]
  },
  {
   "cell_type": "code",
   "execution_count": 28,
   "id": "274243e1",
   "metadata": {},
   "outputs": [
    {
     "name": "stdout",
     "output_type": "stream",
     "text": [
      "jhks is studying at the djksalh at the age of 34\n"
     ]
    }
   ],
   "source": [
    "print(f\"{name} is studying at the {university} at the age of {age}\")"
   ]
  },
  {
   "cell_type": "markdown",
   "id": "11a24869",
   "metadata": {},
   "source": [
    "# Loops"
   ]
  },
  {
   "cell_type": "code",
   "execution_count": 29,
   "id": "b47b9c72",
   "metadata": {},
   "outputs": [
    {
     "name": "stdout",
     "output_type": "stream",
     "text": [
      "Please enter your Age: \n"
     ]
    },
    {
     "ename": "ValueError",
     "evalue": "invalid literal for int() with base 10: ''",
     "output_type": "error",
     "traceback": [
      "\u001b[1;31m---------------------------------------------------------------------------\u001b[0m",
      "\u001b[1;31mValueError\u001b[0m                                Traceback (most recent call last)",
      "Cell \u001b[1;32mIn[29], line 1\u001b[0m\n\u001b[1;32m----> 1\u001b[0m age \u001b[38;5;241m=\u001b[39m \u001b[38;5;28;43mint\u001b[39;49m\u001b[43m(\u001b[49m\u001b[38;5;28;43minput\u001b[39;49m\u001b[43m(\u001b[49m\u001b[38;5;124;43m\"\u001b[39;49m\u001b[38;5;124;43mPlease enter your Age: \u001b[39;49m\u001b[38;5;124;43m\"\u001b[39;49m\u001b[43m)\u001b[49m\u001b[43m)\u001b[49m\n\u001b[0;32m      2\u001b[0m sal \u001b[38;5;241m=\u001b[39m \u001b[38;5;28mfloat\u001b[39m(\u001b[38;5;28minput\u001b[39m(\u001b[38;5;124m\"\u001b[39m\u001b[38;5;124mPlease enter your Salary: \u001b[39m\u001b[38;5;124m\"\u001b[39m))\n\u001b[0;32m      3\u001b[0m credit_score \u001b[38;5;241m=\u001b[39m \u001b[38;5;28mint\u001b[39m(\u001b[38;5;28minput\u001b[39m(\u001b[38;5;124m\"\u001b[39m\u001b[38;5;124mPlease enter your Credit score: \u001b[39m\u001b[38;5;124m\"\u001b[39m))\n",
      "\u001b[1;31mValueError\u001b[0m: invalid literal for int() with base 10: ''"
     ]
    }
   ],
   "source": [
    "age = int(input(\"Please enter your Age: \"))\n",
    "sal = float(input(\"Please enter your Salary: \"))\n",
    "credit_score = int(input(\"Please enter your Credit score: \"))\n",
    "\n",
    "if (age <= 45) and (sal >= 50) and (credit_score >= 800):\n",
    "    print(\"Provide Loans with lesser interest rates\")\n",
    "elif (age <= 45) and (sal < 50) and (credit_score >= 700 and credit_score < 800):\n",
    "    print(\"Provide Loans with Moderate interest rates\")\n",
    "elif credit_score >= 600:\n",
    "    print(\"Provide Loans with Higher interest rates\")\n",
    "else:\n",
    "    print(\"No Loans\")"
   ]
  },
  {
   "cell_type": "code",
   "execution_count": null,
   "id": "49420f25",
   "metadata": {},
   "outputs": [],
   "source": [
    "# Iterating an operation \"n\" number of times\n",
    "# 1. For - Finite iterations - Limited number of iterations\n",
    "# 2. While - Infinite Iterations - Runs continously unless a condition becomes FALSE"
   ]
  },
  {
   "cell_type": "markdown",
   "id": "a687f858",
   "metadata": {},
   "source": [
    "# FOR Loop"
   ]
  },
  {
   "cell_type": "code",
   "execution_count": 30,
   "id": "53afc2b3",
   "metadata": {},
   "outputs": [
    {
     "ename": "SyntaxError",
     "evalue": "incomplete input (3241346689.py, line 1)",
     "output_type": "error",
     "traceback": [
      "\u001b[1;36m  Cell \u001b[1;32mIn[30], line 1\u001b[1;36m\u001b[0m\n\u001b[1;33m    for i in something: # will inform the machine to run the below operation n number of times\u001b[0m\n\u001b[1;37m                                                                                              ^\u001b[0m\n\u001b[1;31mSyntaxError\u001b[0m\u001b[1;31m:\u001b[0m incomplete input\n"
     ]
    }
   ],
   "source": [
    "for i in something: # will inform the machine to run the below operation n number of times"
   ]
  },
  {
   "cell_type": "code",
   "execution_count": 31,
   "id": "b2c17f1b",
   "metadata": {},
   "outputs": [
    {
     "data": {
      "text/plain": [
       "[0, 1, 2]"
      ]
     },
     "execution_count": 31,
     "metadata": {},
     "output_type": "execute_result"
    }
   ],
   "source": [
    "list(range(3))"
   ]
  },
  {
   "cell_type": "code",
   "execution_count": 32,
   "id": "2c10c6c8",
   "metadata": {},
   "outputs": [
    {
     "name": "stdout",
     "output_type": "stream",
     "text": [
      "Python\n",
      "Python\n",
      "Python\n"
     ]
    }
   ],
   "source": [
    "for i in range(3):\n",
    "    print(\"Python\")"
   ]
  },
  {
   "cell_type": "code",
   "execution_count": 33,
   "id": "16bfdf56",
   "metadata": {},
   "outputs": [
    {
     "name": "stdout",
     "output_type": "stream",
     "text": [
      "0\n",
      "1\n",
      "2\n"
     ]
    }
   ],
   "source": [
    "for i in range(3):\n",
    "    print(i)"
   ]
  },
  {
   "cell_type": "code",
   "execution_count": 37,
   "id": "cb2967ee",
   "metadata": {},
   "outputs": [
    {
     "name": "stdout",
     "output_type": "stream",
     "text": [
      "Please enter your Age: 3\n",
      "Please enter your Salary: 4500\n",
      "Please enter your Credit score: 400\n",
      "No Loans\n",
      "Please enter your Age: 60\n",
      "Please enter your Salary: 69000\n",
      "Please enter your Credit score: 500\n",
      "No Loans\n",
      "Please enter your Age: 23\n",
      "Please enter your Salary: 4500\n",
      "Please enter your Credit score: 600\n",
      "Provide Loans with Higher interest rates\n",
      "Please enter your Age: 6\n",
      "Please enter your Salary: 7600\n",
      "Please enter your Credit score: 76\n",
      "No Loans\n",
      "Please enter your Age: 67\n",
      "Please enter your Salary: 4500\n",
      "Please enter your Credit score: 800\n",
      "Provide Loans with Higher interest rates\n"
     ]
    }
   ],
   "source": [
    "for i in range(5):\n",
    "    \n",
    "    age = int(input(\"Please enter your Age: \"))\n",
    "    sal = float(input(\"Please enter your Salary: \"))\n",
    "    credit_score = int(input(\"Please enter your Credit score: \"))\n",
    "\n",
    "    if (age <= 45) and (sal >= 50) and (credit_score >= 800):\n",
    "        print(\"Provide Loans with lesser interest rates\")\n",
    "    elif (age <= 45) and (sal < 50) and (credit_score >= 700 and credit_score < 800):\n",
    "        print(\"Provide Loans with Moderate interest rates\")\n",
    "    elif credit_score >= 600:\n",
    "        print(\"Provide Loans with Higher interest rates\")\n",
    "    else:\n",
    "        print(\"No Loans\")"
   ]
  },
  {
   "cell_type": "code",
   "execution_count": 38,
   "id": "583cc5b4",
   "metadata": {},
   "outputs": [],
   "source": [
    "import random\n",
    "secret_number = random.randint(10, 100)"
   ]
  },
  {
   "cell_type": "code",
   "execution_count": 39,
   "id": "40fa5a04",
   "metadata": {},
   "outputs": [
    {
     "name": "stdout",
     "output_type": "stream",
     "text": [
      "\n",
      "Guess a number between 10 to 100: 27\n",
      "Guess higher\n",
      "\n",
      "Guess a number between 10 to 100: 78\n",
      "Guess lesser\n",
      "\n",
      "Guess a number between 10 to 100: 50\n",
      "Guess higher\n"
     ]
    }
   ],
   "source": [
    "for i in range(3):\n",
    "    \n",
    "    guess = int(input(\"\\nGuess a number between 10 to 100: \"))\n",
    "    \n",
    "    if guess > secret_number:\n",
    "        print(\"Guess lesser\")\n",
    "    elif guess < secret_number:\n",
    "        print(\"Guess higher\")\n",
    "    else:\n",
    "        print(\"Good job, you've guessed it correctly\")"
   ]
  },
  {
   "cell_type": "code",
   "execution_count": 40,
   "id": "2cb62c6f",
   "metadata": {},
   "outputs": [
    {
     "name": "stdout",
     "output_type": "stream",
     "text": [
      "\n",
      "Guess a number between 10 to 100: 50\n",
      "Guess higher\n",
      "\n",
      "Guess a number between 10 to 100: 78\n",
      "Guess lesser\n",
      "\n",
      "Guess a number between 10 to 100: 67\n",
      "Good job, you've guessed it correctly\n",
      "Good Try, the secret_Number is 67\n"
     ]
    }
   ],
   "source": [
    "for i in range(3):\n",
    "    \n",
    "    guess = int(input(\"\\nGuess a number between 10 to 100: \"))\n",
    "    \n",
    "    if guess > secret_number:\n",
    "        print(\"Guess lesser\")\n",
    "    elif guess < secret_number:\n",
    "        print(\"Guess higher\")\n",
    "    else:\n",
    "        print(\"Good job, you've guessed it correctly\")\n",
    "\n",
    "else:\n",
    "    print(\"Good Try, the secret_Number is\", secret_number)"
   ]
  },
  {
   "cell_type": "code",
   "execution_count": 41,
   "id": "e5ca208c",
   "metadata": {},
   "outputs": [
    {
     "data": {
      "text/plain": [
       "[1, 2, 3]"
      ]
     },
     "execution_count": 41,
     "metadata": {},
     "output_type": "execute_result"
    }
   ],
   "source": [
    "list(range(1, 4))"
   ]
  },
  {
   "cell_type": "code",
   "execution_count": 42,
   "id": "0d7a0a32",
   "metadata": {},
   "outputs": [
    {
     "name": "stdout",
     "output_type": "stream",
     "text": [
      "\n",
      "Guess a number between 10 to 100: 68\n",
      "Guess lesser\n",
      "\n",
      "Guess a number between 10 to 100: 68\n",
      "Guess lesser\n",
      "\n",
      "Guess a number between 10 to 100: 45\n",
      "Guess higher\n",
      "Good Try, the secret_Number is 67\n"
     ]
    }
   ],
   "source": [
    "for i in range(1, 4):\n",
    "    \n",
    "    guess = int(input(\"\\nGuess a number between 10 to 100: \"))\n",
    "    \n",
    "    if guess > secret_number:\n",
    "        print(\"Guess lesser\")\n",
    "    elif guess < secret_number:\n",
    "        print(\"Guess higher\")\n",
    "    else:\n",
    "        print(\"Good job, you've guessed it correctly\")\n",
    "        break\n",
    "else:\n",
    "    print(\"Good Try, the secret_Number is\", secret_number)"
   ]
  },
  {
   "cell_type": "code",
   "execution_count": null,
   "id": "ca7c6c4a",
   "metadata": {},
   "outputs": [],
   "source": []
  },
  {
   "cell_type": "code",
   "execution_count": null,
   "id": "ddec899a",
   "metadata": {},
   "outputs": [],
   "source": []
  },
  {
   "cell_type": "code",
   "execution_count": null,
   "id": "fc62afad",
   "metadata": {},
   "outputs": [],
   "source": []
  },
  {
   "cell_type": "code",
   "execution_count": null,
   "id": "53c281bc",
   "metadata": {},
   "outputs": [],
   "source": []
  },
  {
   "cell_type": "code",
   "execution_count": null,
   "id": "4a10698f",
   "metadata": {},
   "outputs": [],
   "source": []
  },
  {
   "cell_type": "code",
   "execution_count": null,
   "id": "f95f0222",
   "metadata": {},
   "outputs": [],
   "source": []
  },
  {
   "cell_type": "code",
   "execution_count": null,
   "id": "00b6a27a",
   "metadata": {},
   "outputs": [],
   "source": []
  },
  {
   "cell_type": "code",
   "execution_count": null,
   "id": "d5873c30",
   "metadata": {},
   "outputs": [],
   "source": []
  },
  {
   "cell_type": "code",
   "execution_count": null,
   "id": "d6dc236a",
   "metadata": {},
   "outputs": [],
   "source": []
  },
  {
   "cell_type": "code",
   "execution_count": null,
   "id": "84bb0136",
   "metadata": {},
   "outputs": [],
   "source": []
  },
  {
   "cell_type": "code",
   "execution_count": null,
   "id": "c9777713",
   "metadata": {},
   "outputs": [],
   "source": []
  },
  {
   "cell_type": "code",
   "execution_count": null,
   "id": "e093d933",
   "metadata": {},
   "outputs": [],
   "source": []
  },
  {
   "cell_type": "code",
   "execution_count": null,
   "id": "30438be1",
   "metadata": {},
   "outputs": [],
   "source": []
  },
  {
   "cell_type": "code",
   "execution_count": null,
   "id": "402cac92",
   "metadata": {},
   "outputs": [],
   "source": []
  },
  {
   "cell_type": "code",
   "execution_count": null,
   "id": "f2fe892a",
   "metadata": {},
   "outputs": [],
   "source": []
  },
  {
   "cell_type": "code",
   "execution_count": null,
   "id": "ba3c4d5f",
   "metadata": {},
   "outputs": [],
   "source": []
  },
  {
   "cell_type": "code",
   "execution_count": null,
   "id": "b7241bea",
   "metadata": {},
   "outputs": [],
   "source": []
  }
 ],
 "metadata": {
  "kernelspec": {
   "display_name": "Python 3 (ipykernel)",
   "language": "python",
   "name": "python3"
  },
  "language_info": {
   "codemirror_mode": {
    "name": "ipython",
    "version": 3
   },
   "file_extension": ".py",
   "mimetype": "text/x-python",
   "name": "python",
   "nbconvert_exporter": "python",
   "pygments_lexer": "ipython3",
   "version": "3.11.1"
  }
 },
 "nbformat": 4,
 "nbformat_minor": 5
}
