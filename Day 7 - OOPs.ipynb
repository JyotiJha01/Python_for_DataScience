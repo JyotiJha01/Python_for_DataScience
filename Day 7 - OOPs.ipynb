{
 "cells": [
  {
   "cell_type": "markdown",
   "id": "9dec5471",
   "metadata": {},
   "source": [
    "## Classes and Objects/Instances"
   ]
  },
  {
   "cell_type": "code",
   "execution_count": 1,
   "id": "99bdb352",
   "metadata": {},
   "outputs": [],
   "source": [
    "# Creating a Class\n",
    "class welcome:\n",
    "    \n",
    "    topic = \"Python Programming\"\n",
    "    students = 350\n",
    "    \n",
    "    def greeting(self):\n",
    "        return \"Welcome to OOPs in Python\"\n",
    "    \n",
    "    def day(self):\n",
    "        return \"Wednesday is in the middle of the week\""
   ]
  },
  {
   "cell_type": "code",
   "execution_count": 2,
   "id": "3369811b",
   "metadata": {},
   "outputs": [
    {
     "name": "stdout",
     "output_type": "stream",
     "text": [
      "Variables from the instance\n",
      "Python Programming\n",
      "350\n",
      "\n",
      "Methods from the instance\n",
      "Welcome to OOPs in Python\n",
      "Wednesday is in the middle of the week\n"
     ]
    }
   ],
   "source": [
    "# Creating an Instance to access the vars and methods\n",
    "\n",
    "ins = welcome()\n",
    "print(\"Variables from the instance\")\n",
    "print(ins.topic)\n",
    "print(ins.students)\n",
    "print(\"\\nMethods from the instance\")\n",
    "print(ins.greeting())\n",
    "print(ins.day())"
   ]
  },
  {
   "cell_type": "markdown",
   "id": "f8ca3f42",
   "metadata": {},
   "source": [
    "# The SELF Consructor"
   ]
  },
  {
   "cell_type": "code",
   "execution_count": 3,
   "id": "c3c7c393",
   "metadata": {},
   "outputs": [],
   "source": [
    "class welcome:\n",
    "    \n",
    "    topic = \"Python Programming\"\n",
    "    students = 350\n",
    "    \n",
    "    def greeting(self):\n",
    "        return \"Welcome to OOPs in\", topic\n",
    "    \n",
    "    def day(self):\n",
    "        return \"Wednesday is in the middle of the week\""
   ]
  },
  {
   "cell_type": "code",
   "execution_count": 4,
   "id": "7b99b842",
   "metadata": {},
   "outputs": [
    {
     "name": "stdout",
     "output_type": "stream",
     "text": [
      "Methods from the instance\n"
     ]
    },
    {
     "ename": "NameError",
     "evalue": "name 'topic' is not defined",
     "output_type": "error",
     "traceback": [
      "\u001b[1;31m---------------------------------------------------------------------------\u001b[0m",
      "\u001b[1;31mNameError\u001b[0m                                 Traceback (most recent call last)",
      "Cell \u001b[1;32mIn[4], line 5\u001b[0m\n\u001b[0;32m      3\u001b[0m ins \u001b[38;5;241m=\u001b[39m welcome()\n\u001b[0;32m      4\u001b[0m \u001b[38;5;28mprint\u001b[39m(\u001b[38;5;124m\"\u001b[39m\u001b[38;5;124mMethods from the instance\u001b[39m\u001b[38;5;124m\"\u001b[39m)\n\u001b[1;32m----> 5\u001b[0m \u001b[38;5;28mprint\u001b[39m(\u001b[43mins\u001b[49m\u001b[38;5;241;43m.\u001b[39;49m\u001b[43mgreeting\u001b[49m\u001b[43m(\u001b[49m\u001b[43m)\u001b[49m)\n\u001b[0;32m      6\u001b[0m \u001b[38;5;28mprint\u001b[39m(ins\u001b[38;5;241m.\u001b[39mday())\n",
      "Cell \u001b[1;32mIn[3], line 7\u001b[0m, in \u001b[0;36mwelcome.greeting\u001b[1;34m(self)\u001b[0m\n\u001b[0;32m      6\u001b[0m \u001b[38;5;28;01mdef\u001b[39;00m \u001b[38;5;21mgreeting\u001b[39m(\u001b[38;5;28mself\u001b[39m):\n\u001b[1;32m----> 7\u001b[0m     \u001b[38;5;28;01mreturn\u001b[39;00m \u001b[38;5;124m\"\u001b[39m\u001b[38;5;124mWelcome to OOPs in\u001b[39m\u001b[38;5;124m\"\u001b[39m, \u001b[43mtopic\u001b[49m\n",
      "\u001b[1;31mNameError\u001b[0m: name 'topic' is not defined"
     ]
    }
   ],
   "source": [
    "# Creating an Instance to access the vars and methods\n",
    "\n",
    "ins = welcome()\n",
    "print(\"Methods from the instance\")\n",
    "print(ins.greeting())\n",
    "print(ins.day())"
   ]
  },
  {
   "cell_type": "markdown",
   "id": "88f3fd23",
   "metadata": {},
   "source": [
    "# The __INIT__ instantiator (Constructor)"
   ]
  },
  {
   "cell_type": "code",
   "execution_count": 5,
   "id": "4b561022",
   "metadata": {},
   "outputs": [],
   "source": [
    "# __init__"
   ]
  },
  {
   "cell_type": "code",
   "execution_count": 6,
   "id": "9e1555f6",
   "metadata": {},
   "outputs": [],
   "source": [
    "class welcome:\n",
    "    \n",
    "    def __init__(self, a, b):\n",
    "        self.topic = a\n",
    "        self.students = b\n",
    "    \n",
    "    def greeting(self):\n",
    "        return f\"Welcome to OOPs in {self.topic}\"\n",
    "    \n",
    "    def day(self):\n",
    "        return f\"{self.students} students have joined Python session on a Wednesday\""
   ]
  },
  {
   "cell_type": "code",
   "execution_count": 7,
   "id": "bc053eeb",
   "metadata": {},
   "outputs": [
    {
     "ename": "TypeError",
     "evalue": "welcome.__init__() missing 2 required positional arguments: 'a' and 'b'",
     "output_type": "error",
     "traceback": [
      "\u001b[1;31m---------------------------------------------------------------------------\u001b[0m",
      "\u001b[1;31mTypeError\u001b[0m                                 Traceback (most recent call last)",
      "Cell \u001b[1;32mIn[7], line 1\u001b[0m\n\u001b[1;32m----> 1\u001b[0m ins \u001b[38;5;241m=\u001b[39m \u001b[43mwelcome\u001b[49m\u001b[43m(\u001b[49m\u001b[43m)\u001b[49m\n",
      "\u001b[1;31mTypeError\u001b[0m: welcome.__init__() missing 2 required positional arguments: 'a' and 'b'"
     ]
    }
   ],
   "source": [
    "ins = welcome()"
   ]
  },
  {
   "cell_type": "code",
   "execution_count": 8,
   "id": "bd9974fe",
   "metadata": {},
   "outputs": [
    {
     "name": "stdout",
     "output_type": "stream",
     "text": [
      "Variables from the instance\n",
      "Python Programming\n",
      "150\n",
      "\n",
      "Methods from the instance\n",
      "Welcome to OOPs in Python Programming\n",
      "150 students have joined Python session on a Wednesday\n"
     ]
    }
   ],
   "source": [
    "first_ins = welcome(\"Python Programming\", 150)\n",
    "\n",
    "print(\"Variables from the instance\")\n",
    "print(first_ins.topic)\n",
    "print(first_ins.students)\n",
    "print(\"\\nMethods from the instance\")\n",
    "print(first_ins.greeting())\n",
    "print(first_ins.day())"
   ]
  },
  {
   "cell_type": "markdown",
   "id": "e1b8ca82",
   "metadata": {},
   "source": [
    "### Inheritance\n",
    "### Poly morphism\n",
    "### Method Overriding"
   ]
  },
  {
   "cell_type": "markdown",
   "id": "cbe378ba",
   "metadata": {},
   "source": [
    "# Inheritance"
   ]
  },
  {
   "cell_type": "code",
   "execution_count": 9,
   "id": "33e5e268",
   "metadata": {},
   "outputs": [],
   "source": [
    "class parent:\n",
    "    \n",
    "    def __init__(self, f, m, mon):\n",
    "        self.father = f\n",
    "        self.mother = m\n",
    "        self.money = mon\n",
    "        \n",
    "    def parent_info(self):\n",
    "        return f\"{self.father} and {self.mother} has left {self.money} million INR to their children\"\n",
    "    \n",
    "class child(parent):\n",
    "    pass # empty placeholder"
   ]
  },
  {
   "cell_type": "code",
   "execution_count": 10,
   "id": "ca29e735",
   "metadata": {},
   "outputs": [
    {
     "ename": "TypeError",
     "evalue": "parent.__init__() missing 3 required positional arguments: 'f', 'm', and 'mon'",
     "output_type": "error",
     "traceback": [
      "\u001b[1;31m---------------------------------------------------------------------------\u001b[0m",
      "\u001b[1;31mTypeError\u001b[0m                                 Traceback (most recent call last)",
      "Cell \u001b[1;32mIn[10], line 1\u001b[0m\n\u001b[1;32m----> 1\u001b[0m ch_ins \u001b[38;5;241m=\u001b[39m \u001b[43mchild\u001b[49m\u001b[43m(\u001b[49m\u001b[43m)\u001b[49m\n",
      "\u001b[1;31mTypeError\u001b[0m: parent.__init__() missing 3 required positional arguments: 'f', 'm', and 'mon'"
     ]
    }
   ],
   "source": [
    "ch_ins = child()"
   ]
  },
  {
   "cell_type": "code",
   "execution_count": 11,
   "id": "c9b8c6ab",
   "metadata": {},
   "outputs": [
    {
     "name": "stdout",
     "output_type": "stream",
     "text": [
      "Alpha\n",
      "Beta\n",
      "45\n",
      "Alpha and Beta has left 45 million INR to their children\n"
     ]
    }
   ],
   "source": [
    "ch_ins = child(\"Alpha\", \"Beta\", 45)\n",
    "print(ch_ins.father)\n",
    "print(ch_ins.mother)\n",
    "print(ch_ins.money)\n",
    "\n",
    "print(ch_ins.parent_info())"
   ]
  },
  {
   "cell_type": "code",
   "execution_count": 12,
   "id": "3ea09797",
   "metadata": {},
   "outputs": [],
   "source": [
    "class parent:\n",
    "    \n",
    "    def __init__(self, f, m, mon):\n",
    "        self.father = f\n",
    "        self.mother = m\n",
    "        self.money = mon\n",
    "        \n",
    "    def parent_info(self):\n",
    "        return f\"{self.father} and {self.mother} has left {self.money} million INR to their children\"\n",
    "    \n",
    "class child(parent):\n",
    "    \n",
    "    def __init__(self, f, m, mon, ch, ch_age):\n",
    "        parent.__init__(self, f, m, mon)\n",
    "        self.child_name = ch\n",
    "        self.child_age = ch_age\n",
    "        \n",
    "    def child_info(self):\n",
    "        return f\"{self.child_name} has inherited {self.money} Million INR from his/her parents {self.mother} and {self.father} at the age of {self.child_age}\""
   ]
  },
  {
   "cell_type": "code",
   "execution_count": 13,
   "id": "5bfda0d1",
   "metadata": {},
   "outputs": [
    {
     "name": "stdout",
     "output_type": "stream",
     "text": [
      "Alpha\n",
      "Beta\n",
      "45\n",
      "Gamma\n",
      "11\n",
      "Alpha and Beta has left 45 million INR to their children\n",
      "Gamma has inherited 45 Million INR from his/her parents Beta and Alpha at the age of 11\n"
     ]
    }
   ],
   "source": [
    "ch_ins = child(\"Alpha\", \"Beta\", 45, \"Gamma\", 11)\n",
    "\n",
    "print(ch_ins.father)\n",
    "print(ch_ins.mother)\n",
    "print(ch_ins.money)\n",
    "print(ch_ins.child_name)\n",
    "print(ch_ins.child_age)\n",
    "\n",
    "print(ch_ins.parent_info())\n",
    "print(ch_ins.child_info())"
   ]
  },
  {
   "cell_type": "markdown",
   "id": "9570055b",
   "metadata": {},
   "source": [
    "# Multiple Inheritance"
   ]
  },
  {
   "cell_type": "code",
   "execution_count": 14,
   "id": "fce59e21",
   "metadata": {},
   "outputs": [],
   "source": [
    "class grand_parent:\n",
    "    \n",
    "    def __init__(self, gf, gm, gmon):\n",
    "        self.grandfather = gf\n",
    "        self.grandmother = gm\n",
    "        self.g_money = gmon\n",
    "        \n",
    "    def grand_parent_info(self):\n",
    "        return f\"{self.grandfather} and {self.grandmother} has left {self.g_money} million INR to their children\""
   ]
  },
  {
   "cell_type": "code",
   "execution_count": 15,
   "id": "f4ec7a26",
   "metadata": {},
   "outputs": [],
   "source": [
    "class parent:\n",
    "    \n",
    "    def __init__(self, f, m, mon):\n",
    "        self.father = f\n",
    "        self.mother = m\n",
    "        self.money = mon\n",
    "        \n",
    "    def parent_info(self):\n",
    "        return f\"{self.father} and {self.mother} has left {self.money} million INR to their children\""
   ]
  },
  {
   "cell_type": "code",
   "execution_count": 16,
   "id": "d97c8324",
   "metadata": {},
   "outputs": [],
   "source": [
    "class child(grand_parent, parent):\n",
    "    pass"
   ]
  },
  {
   "cell_type": "code",
   "execution_count": 17,
   "id": "c29dc8e3",
   "metadata": {},
   "outputs": [
    {
     "name": "stdout",
     "output_type": "stream",
     "text": [
      "Alpha\n",
      "Beta\n",
      "45\n",
      "Alpha and Beta has left 45 million INR to their children\n"
     ]
    }
   ],
   "source": [
    "ch_ins = child(\"Alpha\", \"Beta\", 45)\n",
    "\n",
    "print(ch_ins.grandfather)\n",
    "print(ch_ins.grandmother)\n",
    "print(ch_ins.g_money)\n",
    "\n",
    "print(ch_ins.grand_parent_info())"
   ]
  },
  {
   "cell_type": "code",
   "execution_count": 18,
   "id": "203707b6",
   "metadata": {},
   "outputs": [],
   "source": [
    "class child(grand_parent, parent):\n",
    "    \n",
    "    def __init(self, gf, gm, gmon, f, m, mon):\n",
    "        super().__init__(self, gf, gm, gmon, f, m, mon)"
   ]
  },
  {
   "cell_type": "code",
   "execution_count": 19,
   "id": "2cd9e622",
   "metadata": {},
   "outputs": [
    {
     "name": "stdout",
     "output_type": "stream",
     "text": [
      "From the Grand Parent Class\n",
      "Alpha\n",
      "Beta\n",
      "45\n",
      "Alpha and Beta has left 45 million INR to their children\n",
      "\n",
      "From the Grand Parent Class\n"
     ]
    },
    {
     "ename": "AttributeError",
     "evalue": "'child' object has no attribute 'father'",
     "output_type": "error",
     "traceback": [
      "\u001b[1;31m---------------------------------------------------------------------------\u001b[0m",
      "\u001b[1;31mAttributeError\u001b[0m                            Traceback (most recent call last)",
      "Cell \u001b[1;32mIn[19], line 9\u001b[0m\n\u001b[0;32m      7\u001b[0m \u001b[38;5;28mprint\u001b[39m(ch_ins\u001b[38;5;241m.\u001b[39mgrand_parent_info())\n\u001b[0;32m      8\u001b[0m \u001b[38;5;28mprint\u001b[39m(\u001b[38;5;124m\"\u001b[39m\u001b[38;5;130;01m\\n\u001b[39;00m\u001b[38;5;124mFrom the Grand Parent Class\u001b[39m\u001b[38;5;124m\"\u001b[39m)\n\u001b[1;32m----> 9\u001b[0m \u001b[38;5;28mprint\u001b[39m(\u001b[43mch_ins\u001b[49m\u001b[38;5;241;43m.\u001b[39;49m\u001b[43mfather\u001b[49m)\n\u001b[0;32m     10\u001b[0m \u001b[38;5;28mprint\u001b[39m(ch_ins\u001b[38;5;241m.\u001b[39mmother)\n\u001b[0;32m     11\u001b[0m \u001b[38;5;28mprint\u001b[39m(ch_ins\u001b[38;5;241m.\u001b[39mmoney)\n",
      "\u001b[1;31mAttributeError\u001b[0m: 'child' object has no attribute 'father'"
     ]
    }
   ],
   "source": [
    "ch_ins = child(\"Alpha\", \"Beta\", 45)\n",
    "\n",
    "print(\"From the Grand Parent Class\")\n",
    "print(ch_ins.grandfather)\n",
    "print(ch_ins.grandmother)\n",
    "print(ch_ins.g_money)\n",
    "print(ch_ins.grand_parent_info())\n",
    "print(\"\\nFrom the Grand Parent Class\")\n",
    "print(ch_ins.father)\n",
    "print(ch_ins.mother)\n",
    "print(ch_ins.money)\n",
    "print(ch_ins.parent_info())"
   ]
  },
  {
   "cell_type": "markdown",
   "id": "d838cc17",
   "metadata": {},
   "source": [
    "# Multi-level Inheritance"
   ]
  },
  {
   "cell_type": "code",
   "execution_count": 20,
   "id": "b55fc06a",
   "metadata": {},
   "outputs": [],
   "source": [
    "class first:\n",
    "    \n",
    "    def __init__(self, n, a, s):\n",
    "        self.name = n\n",
    "        self.age = a\n",
    "        self.sal = s\n",
    "        \n",
    "    def hello(self):\n",
    "        return f\"{self.name} is earning {self.sal} LPA at the age of {self.age}\"\n",
    "    \n",
    "class second(first):\n",
    "    \n",
    "    def __init__(self, n, a, s, sn, sa, ss):\n",
    "        first.__init__(self, n, a, s)\n",
    "        self.second_sal = ss\n",
    "        self.second_name = sn\n",
    "        self.second_age = sa\n",
    "        \n",
    "    def add(self, a, b):\n",
    "        return a + b\n",
    "    \n",
    "class third(second):\n",
    "    \n",
    "    def sub(self, x, y):\n",
    "        return x - y"
   ]
  },
  {
   "cell_type": "code",
   "execution_count": 21,
   "id": "d25b076e",
   "metadata": {},
   "outputs": [
    {
     "name": "stdout",
     "output_type": "stream",
     "text": [
      "Values from First class\n",
      "Aditya\n",
      "25\n",
      "15\n",
      "Method from First class\n",
      "Aditya is earning 15 LPA at the age of 25\n",
      "\n",
      "Values from Second class\n",
      "Kanak\n",
      "28\n",
      "45\n",
      "Method from Second class\n",
      "30\n",
      "\n",
      "Method from Third class\n",
      "10\n"
     ]
    }
   ],
   "source": [
    "final = third(\"Aditya\", 25, 15, 'Kanak', 28, 45)\n",
    "print(\"Values from First class\")\n",
    "print(final.name)\n",
    "print(final.age)\n",
    "print(final.sal)\n",
    "print(\"Method from First class\")\n",
    "print(final.hello())\n",
    "print(\"\\nValues from Second class\")\n",
    "print(final.second_name)\n",
    "print(final.second_age)\n",
    "print(final.second_sal)\n",
    "print(\"Method from Second class\")\n",
    "print(final.add(10,20))\n",
    "print(\"\\nMethod from Third class\")\n",
    "print(final.sub(22,12))"
   ]
  },
  {
   "cell_type": "markdown",
   "id": "0080d615",
   "metadata": {},
   "source": [
    "# Polymorphism"
   ]
  },
  {
   "cell_type": "code",
   "execution_count": 22,
   "id": "af2fde01",
   "metadata": {},
   "outputs": [
    {
     "data": {
      "text/plain": [
       "30"
      ]
     },
     "execution_count": 22,
     "metadata": {},
     "output_type": "execute_result"
    }
   ],
   "source": [
    "10 + 20"
   ]
  },
  {
   "cell_type": "code",
   "execution_count": 23,
   "id": "6a2f0ee2",
   "metadata": {},
   "outputs": [
    {
     "data": {
      "text/plain": [
       "'AB'"
      ]
     },
     "execution_count": 23,
     "metadata": {},
     "output_type": "execute_result"
    }
   ],
   "source": [
    "\"A\" + \"B\""
   ]
  },
  {
   "cell_type": "code",
   "execution_count": 24,
   "id": "517c0949",
   "metadata": {},
   "outputs": [],
   "source": [
    "class car:\n",
    "    \n",
    "    def __init__(self, name, manu):\n",
    "        self.car_name = name\n",
    "        self.manufacturer = manu\n",
    "        \n",
    "    def info(self):\n",
    "        return f\"{self.manufacturer} has recently launched a new {self.car_name} variant in the market\""
   ]
  },
  {
   "cell_type": "code",
   "execution_count": 25,
   "id": "e96c76f9",
   "metadata": {},
   "outputs": [],
   "source": [
    "class motorbikes:\n",
    "    \n",
    "    def __init__(self, version, highspeed):\n",
    "        self.version = version\n",
    "        self.highestspeed = highspeed\n",
    "        \n",
    "    def info(self):\n",
    "        return f\"Royal Enfield can drive up to {self.highestspeed} MPH in the recent version {self.version}\""
   ]
  },
  {
   "cell_type": "code",
   "execution_count": 26,
   "id": "b49b2879",
   "metadata": {},
   "outputs": [
    {
     "name": "stdout",
     "output_type": "stream",
     "text": [
      "BMW has recently launched a new X1 variant in the market\n"
     ]
    }
   ],
   "source": [
    "bmw = car(\"X1\", \"BMW\")\n",
    "print(bmw.info())"
   ]
  },
  {
   "cell_type": "code",
   "execution_count": 27,
   "id": "b7206f9b",
   "metadata": {},
   "outputs": [
    {
     "name": "stdout",
     "output_type": "stream",
     "text": [
      "Royal Enfield can drive up to 90 MPH in the recent version 2023.25\n"
     ]
    }
   ],
   "source": [
    "bikes = motorbikes(2023.25, 90)\n",
    "print(bikes.info())"
   ]
  },
  {
   "cell_type": "markdown",
   "id": "66b2ce5c",
   "metadata": {},
   "source": [
    "# Method Overriding"
   ]
  },
  {
   "cell_type": "code",
   "execution_count": 28,
   "id": "2ba28cc5",
   "metadata": {},
   "outputs": [],
   "source": [
    "class car:\n",
    "    \n",
    "    def __init__(self, name, manu):\n",
    "        self.car_name = name\n",
    "        self.manufacturer = manu\n",
    "        \n",
    "    def info(self):\n",
    "        return f\"{self.manufacturer} has recently launched a new {self.car_name} variant in the market\"\n",
    "\n",
    "class motorbikes(car):\n",
    "    \n",
    "    def info(self, speed, version):\n",
    "        return f\"Royal Enfield can drive up to {speed} MPH in the recent version {version}\""
   ]
  },
  {
   "cell_type": "code",
   "execution_count": 29,
   "id": "8db90197",
   "metadata": {},
   "outputs": [
    {
     "name": "stdout",
     "output_type": "stream",
     "text": [
      "Royal Enfield can drive up to 90 MPH in the recent version 2023.2\n"
     ]
    }
   ],
   "source": [
    "final = motorbikes(\"X1\", \"BMW\")\n",
    "print(final.info(90, 2023.2))"
   ]
  },
  {
   "cell_type": "code",
   "execution_count": null,
   "id": "27f0696b",
   "metadata": {},
   "outputs": [],
   "source": []
  },
  {
   "cell_type": "code",
   "execution_count": null,
   "id": "06744d40",
   "metadata": {},
   "outputs": [],
   "source": []
  }
 ],
 "metadata": {
  "kernelspec": {
   "display_name": "Python 3 (ipykernel)",
   "language": "python",
   "name": "python3"
  },
  "language_info": {
   "codemirror_mode": {
    "name": "ipython",
    "version": 3
   },
   "file_extension": ".py",
   "mimetype": "text/x-python",
   "name": "python",
   "nbconvert_exporter": "python",
   "pygments_lexer": "ipython3",
   "version": "3.11.1"
  }
 },
 "nbformat": 4,
 "nbformat_minor": 5
}
