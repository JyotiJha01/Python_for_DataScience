{
 "cells": [
  {
   "cell_type": "markdown",
   "id": "b673e4be",
   "metadata": {},
   "source": [
    "# Continue Statement"
   ]
  },
  {
   "cell_type": "code",
   "execution_count": 1,
   "id": "0072581d",
   "metadata": {},
   "outputs": [
    {
     "name": "stdout",
     "output_type": "stream",
     "text": [
      "P\n",
      "y\n",
      "t\n",
      "h\n",
      "o\n",
      "n\n"
     ]
    }
   ],
   "source": [
    "for i in \"Python\":\n",
    "    print(i)"
   ]
  },
  {
   "cell_type": "code",
   "execution_count": 2,
   "id": "15805ca4",
   "metadata": {},
   "outputs": [
    {
     "name": "stdout",
     "output_type": "stream",
     "text": [
      "P\n",
      "y\n",
      "h\n",
      "o\n",
      "n\n"
     ]
    }
   ],
   "source": [
    "for i in \"Python\":\n",
    "   \n",
    "    if i == \"t\":\n",
    "        continue\n",
    "    else:\n",
    "        print(i)"
   ]
  },
  {
   "cell_type": "code",
   "execution_count": 3,
   "id": "24585114",
   "metadata": {},
   "outputs": [
    {
     "data": {
      "text/plain": [
       "[1, 2, 12, 12, 11, 23, 45, 2, 55, 3, 2]"
      ]
     },
     "execution_count": 3,
     "metadata": {},
     "output_type": "execute_result"
    }
   ],
   "source": [
    "a = [1,2,12,12,11,23,45,2,55,3,2]\n",
    "a"
   ]
  },
  {
   "cell_type": "code",
   "execution_count": 4,
   "id": "c3ec9104",
   "metadata": {},
   "outputs": [
    {
     "data": {
      "text/plain": [
       "[1, 2, 12, 12, 11, 23, 45, 2, 55, 3, 2, 1, 2, 12, 12, 11, 23, 45, 2, 55, 3, 2]"
      ]
     },
     "execution_count": 4,
     "metadata": {},
     "output_type": "execute_result"
    }
   ],
   "source": [
    "a * 2"
   ]
  },
  {
   "cell_type": "code",
   "execution_count": 5,
   "id": "85b250ee",
   "metadata": {},
   "outputs": [
    {
     "ename": "TypeError",
     "evalue": "can only concatenate list (not \"int\") to list",
     "output_type": "error",
     "traceback": [
      "\u001b[1;31m---------------------------------------------------------------------------\u001b[0m",
      "\u001b[1;31mTypeError\u001b[0m                                 Traceback (most recent call last)",
      "Cell \u001b[1;32mIn[5], line 1\u001b[0m\n\u001b[1;32m----> 1\u001b[0m \u001b[43ma\u001b[49m\u001b[43m \u001b[49m\u001b[38;5;241;43m+\u001b[39;49m\u001b[43m \u001b[49m\u001b[38;5;241;43m2\u001b[39;49m\n",
      "\u001b[1;31mTypeError\u001b[0m: can only concatenate list (not \"int\") to list"
     ]
    }
   ],
   "source": [
    "a + 2"
   ]
  },
  {
   "cell_type": "code",
   "execution_count": 6,
   "id": "d54deea4",
   "metadata": {},
   "outputs": [
    {
     "name": "stdout",
     "output_type": "stream",
     "text": [
      "0\n",
      "1\n",
      "2\n"
     ]
    }
   ],
   "source": [
    "for i in range(3):\n",
    "    print(i)    "
   ]
  },
  {
   "cell_type": "code",
   "execution_count": 7,
   "id": "124f5db9",
   "metadata": {},
   "outputs": [
    {
     "name": "stdout",
     "output_type": "stream",
     "text": [
      "2\n",
      "4\n",
      "24\n",
      "24\n",
      "22\n",
      "46\n",
      "90\n",
      "4\n",
      "110\n",
      "6\n",
      "4\n"
     ]
    }
   ],
   "source": [
    "for i in a:\n",
    "    print(i * 2)"
   ]
  },
  {
   "cell_type": "markdown",
   "id": "8f394a1d",
   "metadata": {},
   "source": [
    "# While Loop"
   ]
  },
  {
   "cell_type": "code",
   "execution_count": 8,
   "id": "ab7b14c6",
   "metadata": {},
   "outputs": [
    {
     "name": "stdout",
     "output_type": "stream",
     "text": [
      "0\n",
      "1\n",
      "2\n",
      "3\n",
      "4\n"
     ]
    }
   ],
   "source": [
    "b = 0\n",
    "\n",
    "while b != 5: #loops until the value of b becomes 5\n",
    "    print(b)\n",
    "    b += 1"
   ]
  },
  {
   "cell_type": "code",
   "execution_count": 9,
   "id": "d118e62b",
   "metadata": {},
   "outputs": [
    {
     "data": {
      "text/plain": [
       "5"
      ]
     },
     "execution_count": 9,
     "metadata": {},
     "output_type": "execute_result"
    }
   ],
   "source": [
    "b"
   ]
  },
  {
   "cell_type": "code",
   "execution_count": 10,
   "id": "8e64ddde",
   "metadata": {},
   "outputs": [],
   "source": [
    "import random\n",
    "secret_number = random.randint(10, 100)"
   ]
  },
  {
   "cell_type": "code",
   "execution_count": 6,
   "id": "f6ad82be",
   "metadata": {},
   "outputs": [
    {
     "name": "stdout",
     "output_type": "stream",
     "text": [
      "\n",
      "Guess a number between 10 to 100: 95\n",
      "\n",
      "Guess lesser\n",
      "\n",
      "Guess a number between 10 to 100: 85\n",
      "\n",
      "Guess lesser\n",
      "\n",
      "Guess a number between 10 to 100: 55\n",
      "\n",
      "Guess lesser\n",
      "\n",
      "Guess a number between 10 to 100: 35\n",
      "\n",
      "Guess lesser\n",
      "\n",
      "Guess a number between 10 to 100: 25\n",
      "\n",
      "Guess lesser\n",
      "\n",
      "Guess a number between 10 to 100: 15\n",
      "\n",
      "Guess higher\n",
      "\n",
      "Guess a number between 10 to 100: 20\n",
      "\n",
      "Guess lesser\n",
      "\n",
      "Guess a number between 10 to 100: 18\n",
      "\n",
      "Guess lesser\n",
      "\n",
      "Guess a number between 10 to 100: 17\n",
      "\n",
      "Good job, you've guessed it correctly\n"
     ]
    }
   ],
   "source": [
    "while guess != secret_number:\n",
    "    \n",
    "    guess = int(input(\"\\nGuess a number between 10 to 100: \"))\n",
    "    \n",
    "    if guess > secret_number:\n",
    "        print(\"\\nGuess lesser\")\n",
    "    elif guess < secret_number:\n",
    "        print(\"\\nGuess higher\")\n",
    "    else:\n",
    "        print(\"\\nGood job, you've guessed it correctly\")"
   ]
  },
  {
   "cell_type": "markdown",
   "id": "82849604",
   "metadata": {},
   "source": [
    "### 6. Create a python if-else program to check if the given numbers are greater or not, also check whether the given number is an armstrong number or not, and check whether the given number is a prime number or not. Make use of python if-else, and elif statements for the same"
   ]
  },
  {
   "cell_type": "code",
   "execution_count": 11,
   "id": "87b4125d",
   "metadata": {},
   "outputs": [
    {
     "data": {
      "text/plain": [
       "[1, 2, 12, 12, 11, 23, 45, 2, 55, 3, 2]"
      ]
     },
     "execution_count": 11,
     "metadata": {},
     "output_type": "execute_result"
    }
   ],
   "source": [
    "a"
   ]
  },
  {
   "cell_type": "code",
   "execution_count": 12,
   "id": "8e410507",
   "metadata": {},
   "outputs": [
    {
     "name": "stdout",
     "output_type": "stream",
     "text": [
      "Please enter a whole number: 4\n",
      "4 is greater than 1\n",
      "4 is greater than 2\n",
      "4 is greater than 2\n",
      "4 is greater than 3\n",
      "4 is greater than 2\n"
     ]
    }
   ],
   "source": [
    "ip = int(input(\"Please enter a whole number: \"))\n",
    "\n",
    "for i in a:\n",
    "    if ip > i:\n",
    "        print(f\"{ip} is greater than {i}\")\n",
    "    else:\n",
    "        continue"
   ]
  },
  {
   "cell_type": "code",
   "execution_count": 13,
   "id": "3db4f27a",
   "metadata": {},
   "outputs": [
    {
     "data": {
      "text/plain": [
       "153"
      ]
     },
     "execution_count": 13,
     "metadata": {},
     "output_type": "execute_result"
    }
   ],
   "source": [
    "# Armstrong Number\n",
    "153\n",
    "1 ** 3 + 5 ** 3 + 3 ** 3\n",
    "1 + 125 + 27\n",
    "125 + 27\n",
    "153"
   ]
  },
  {
   "cell_type": "code",
   "execution_count": 14,
   "id": "868ec3e1",
   "metadata": {},
   "outputs": [
    {
     "data": {
      "text/plain": [
       "7"
      ]
     },
     "execution_count": 14,
     "metadata": {},
     "output_type": "execute_result"
    }
   ],
   "source": [
    "# Prime number\n",
    "# a number divisible by itself and by 1\n",
    "7\n",
    "2\n",
    "3\n",
    "4\n",
    "5\n",
    "6\n",
    "7"
   ]
  },
  {
   "cell_type": "code",
   "execution_count": 15,
   "id": "a3c385f2",
   "metadata": {},
   "outputs": [
    {
     "name": "stdout",
     "output_type": "stream",
     "text": [
      "Please enter a whole number: 5\n",
      "Armstrong number\n"
     ]
    }
   ],
   "source": [
    "ip = input(\"Please enter a whole number: \")\n",
    "\n",
    "total = 0\n",
    "\n",
    "for i in ip:\n",
    "#     print(int(i) ** len(ip))\n",
    "    total += int(i) ** len(ip)\n",
    "    \n",
    "# print(\"Combined Value of all the values are\", total)\n",
    "\n",
    "if total == int(ip):\n",
    "    print(\"Armstrong number\")\n",
    "else:\n",
    "    print(\"not an armstrong number\")    "
   ]
  },
  {
   "cell_type": "markdown",
   "id": "1df04c9d",
   "metadata": {},
   "source": [
    "# Prime Number"
   ]
  },
  {
   "cell_type": "code",
   "execution_count": 16,
   "id": "42c90435",
   "metadata": {},
   "outputs": [
    {
     "name": "stdout",
     "output_type": "stream",
     "text": [
      "Please enter a whole number: 3\n",
      "3 is a Prime number\n"
     ]
    }
   ],
   "source": [
    "ip = int(input(\"Please enter a whole number: \"))\n",
    "\n",
    "if ip > 1:\n",
    "    for i in range(2, ip):\n",
    "        if (ip % i) == 0:\n",
    "            print(f\"{ip} is not a Prime number\")\n",
    "            break\n",
    "    else:\n",
    "        print(f\"{ip} is a Prime number\")\n",
    "else:\n",
    "    print(f\"{ip} is not a Prime number\")"
   ]
  },
  {
   "cell_type": "markdown",
   "id": "3306c6b2",
   "metadata": {},
   "source": [
    "### 8. Create a fibonacci sequence using python if-else statements.\n",
    "### 9. Create a nested dictionary with values as a nested list for each key in the dictionary.\n",
    "### 10. Create two sets and perform the following: \n",
    "* Union of the two sets\n",
    "* Intersection of the two sets"
   ]
  },
  {
   "cell_type": "markdown",
   "id": "770db121",
   "metadata": {},
   "source": [
    "# 8. Create a fibonacci sequence using python if-else statements."
   ]
  },
  {
   "cell_type": "code",
   "execution_count": 17,
   "id": "f2d88fde",
   "metadata": {},
   "outputs": [
    {
     "name": "stdout",
     "output_type": "stream",
     "text": [
      "Please enter how many Fibnocci Values you need: 5\n",
      "Fibnocci Series are: \n",
      "0, 1, 1, 2, 3, "
     ]
    }
   ],
   "source": [
    "seqnum = int(input(\"Please enter how many Fibnocci Values you need: \"))\n",
    "\n",
    "n1 = 0\n",
    "n2 = 1\n",
    "\n",
    "total = 0\n",
    "\n",
    "if seqnum == 0 :\n",
    "    print(\"Supply a number greater than zero\")\n",
    "elif seqnum == 1:\n",
    "    print(\"First Fibnocci value is, 0\")\n",
    "else:\n",
    "    print(\"Fibnocci Series are: \")\n",
    "    while total < seqnum:\n",
    "        print(n1, end = \", \")\n",
    "        third_val = n1 + n2\n",
    "        n1 = n2\n",
    "        n2 = third_val\n",
    "        total += 1"
   ]
  },
  {
   "cell_type": "code",
   "execution_count": 18,
   "id": "ea6802d5",
   "metadata": {},
   "outputs": [
    {
     "data": {
      "text/plain": [
       "(0, 1, 1, 2, 3, 5, 8)"
      ]
     },
     "execution_count": 18,
     "metadata": {},
     "output_type": "execute_result"
    }
   ],
   "source": [
    "0,1,1,2,3,5,8"
   ]
  },
  {
   "cell_type": "code",
   "execution_count": 19,
   "id": "1a703ac4",
   "metadata": {},
   "outputs": [
    {
     "name": "stdout",
     "output_type": "stream",
     "text": [
      "Please enter how many Fibnocci Values you need: 2\n",
      "0\n",
      "1\n"
     ]
    }
   ],
   "source": [
    "seqnum = int(input(\"Please enter how many Fibnocci Values you need: \"))\n",
    "\n",
    "n1, n2 = 0, 1\n",
    "\n",
    "total = 0\n",
    "\n",
    "while total < seqnum:\n",
    "    \n",
    "    print(n1)\n",
    "    third_val = n1 + n2\n",
    "#     print(\"Third Value\", third_val)\n",
    "    n1 = n2\n",
    "#     print(\"After Modifying\", n1)\n",
    "    n2 = third_val\n",
    "#     print(\"After Modifying\", n2)\n",
    "    total += 1"
   ]
  },
  {
   "cell_type": "markdown",
   "id": "11c970cc",
   "metadata": {},
   "source": [
    "# 9. Create a nested dictionary with values as a nested list for each key in the dictionary."
   ]
  },
  {
   "cell_type": "code",
   "execution_count": 20,
   "id": "c85357a8",
   "metadata": {},
   "outputs": [
    {
     "data": {
      "text/plain": [
       "{'Topics': [['Data Structures'], ['Lists', 'Tuples', 'Sets']],\n",
       " 'Subject': {'Maths': 15, 'Physics': 25, 'Science': 40}}"
      ]
     },
     "execution_count": 20,
     "metadata": {},
     "output_type": "execute_result"
    }
   ],
   "source": [
    "dd = {\"Topics\" : [[\"Data Structures\"], ['Lists', 'Tuples', 'Sets']], \"Subject\" : {\"Maths\" : 15, \"Physics\" : 25, \"Science\" : 40}}\n",
    "dd"
   ]
  },
  {
   "cell_type": "code",
   "execution_count": 21,
   "id": "ce3972bb",
   "metadata": {},
   "outputs": [
    {
     "data": {
      "text/plain": [
       "[['Data Structures'], ['Lists', 'Tuples', 'Sets']]"
      ]
     },
     "execution_count": 21,
     "metadata": {},
     "output_type": "execute_result"
    }
   ],
   "source": [
    "dd['Topics']"
   ]
  },
  {
   "cell_type": "code",
   "execution_count": 22,
   "id": "ae91bb9d",
   "metadata": {},
   "outputs": [
    {
     "data": {
      "text/plain": [
       "['Data Structures']"
      ]
     },
     "execution_count": 22,
     "metadata": {},
     "output_type": "execute_result"
    }
   ],
   "source": [
    "dd['Topics'][0]"
   ]
  },
  {
   "cell_type": "code",
   "execution_count": 23,
   "id": "bc5e461c",
   "metadata": {},
   "outputs": [
    {
     "data": {
      "text/plain": [
       "['Lists', 'Tuples', 'Sets']"
      ]
     },
     "execution_count": 23,
     "metadata": {},
     "output_type": "execute_result"
    }
   ],
   "source": [
    "dd['Topics'][1]"
   ]
  },
  {
   "cell_type": "code",
   "execution_count": 24,
   "id": "47b8052a",
   "metadata": {},
   "outputs": [
    {
     "data": {
      "text/plain": [
       "'Tuples'"
      ]
     },
     "execution_count": 24,
     "metadata": {},
     "output_type": "execute_result"
    }
   ],
   "source": [
    "dd['Topics'][1][1]"
   ]
  },
  {
   "cell_type": "code",
   "execution_count": 25,
   "id": "f7b25e11",
   "metadata": {},
   "outputs": [
    {
     "data": {
      "text/plain": [
       "{'Maths': 15, 'Physics': 25, 'Science': 40}"
      ]
     },
     "execution_count": 25,
     "metadata": {},
     "output_type": "execute_result"
    }
   ],
   "source": [
    "dd['Subject']"
   ]
  },
  {
   "cell_type": "code",
   "execution_count": 26,
   "id": "8ed33491",
   "metadata": {},
   "outputs": [
    {
     "data": {
      "text/plain": [
       "25"
      ]
     },
     "execution_count": 26,
     "metadata": {},
     "output_type": "execute_result"
    }
   ],
   "source": [
    "dd['Subject']['Physics']"
   ]
  },
  {
   "cell_type": "code",
   "execution_count": 27,
   "id": "d4c0af5f",
   "metadata": {},
   "outputs": [
    {
     "name": "stdout",
     "output_type": "stream",
     "text": [
      "{10, 11, 12, 13, 14}\n",
      "{13, 14, 15, 16, 17}\n"
     ]
    }
   ],
   "source": [
    "a = set(range(10, 15))\n",
    "b = set(range(13, 18))\n",
    "print(a)\n",
    "print(b)"
   ]
  },
  {
   "cell_type": "code",
   "execution_count": 28,
   "id": "6af2e971",
   "metadata": {},
   "outputs": [
    {
     "data": {
      "text/plain": [
       "{10, 11, 12, 13, 14, 15, 16, 17}"
      ]
     },
     "execution_count": 28,
     "metadata": {},
     "output_type": "execute_result"
    }
   ],
   "source": [
    "a.union(b)"
   ]
  },
  {
   "cell_type": "code",
   "execution_count": 29,
   "id": "f4453c81",
   "metadata": {},
   "outputs": [
    {
     "data": {
      "text/plain": [
       "{13, 14}"
      ]
     },
     "execution_count": 29,
     "metadata": {},
     "output_type": "execute_result"
    }
   ],
   "source": [
    "a.intersection(b)"
   ]
  },
  {
   "cell_type": "code",
   "execution_count": null,
   "id": "5eed37ad",
   "metadata": {},
   "outputs": [],
   "source": []
  },
  {
   "cell_type": "code",
   "execution_count": null,
   "id": "74efa27f",
   "metadata": {},
   "outputs": [],
   "source": []
  }
 ],
 "metadata": {
  "kernelspec": {
   "display_name": "Python 3 (ipykernel)",
   "language": "python",
   "name": "python3"
  },
  "language_info": {
   "codemirror_mode": {
    "name": "ipython",
    "version": 3
   },
   "file_extension": ".py",
   "mimetype": "text/x-python",
   "name": "python",
   "nbconvert_exporter": "python",
   "pygments_lexer": "ipython3",
   "version": "3.11.1"
  }
 },
 "nbformat": 4,
 "nbformat_minor": 5
}
